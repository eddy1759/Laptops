{
 "cells": [
  {
   "cell_type": "code",
   "execution_count": 1,
   "metadata": {},
   "outputs": [],
   "source": [
    "import numpy as np\n",
    "import pandas as pd\n",
    "import matplotlib.pyplot as plt\n",
    "plt.style.use('seaborn')\n",
    "%matplotlib inline"
   ]
  },
  {
   "cell_type": "code",
   "execution_count": 2,
   "metadata": {},
   "outputs": [],
   "source": [
    "laptops = pd.read_csv('laptops.csv',encoding='Latin-1')"
   ]
  },
  {
   "cell_type": "code",
   "execution_count": 3,
   "metadata": {},
   "outputs": [
    {
     "data": {
      "text/html": [
       "<div>\n",
       "<style scoped>\n",
       "    .dataframe tbody tr th:only-of-type {\n",
       "        vertical-align: middle;\n",
       "    }\n",
       "\n",
       "    .dataframe tbody tr th {\n",
       "        vertical-align: top;\n",
       "    }\n",
       "\n",
       "    .dataframe thead th {\n",
       "        text-align: right;\n",
       "    }\n",
       "</style>\n",
       "<table border=\"1\" class=\"dataframe\">\n",
       "  <thead>\n",
       "    <tr style=\"text-align: right;\">\n",
       "      <th></th>\n",
       "      <th>Manufacturer</th>\n",
       "      <th>Model Name</th>\n",
       "      <th>Category</th>\n",
       "      <th>Screen Size</th>\n",
       "      <th>Screen</th>\n",
       "      <th>CPU</th>\n",
       "      <th>RAM</th>\n",
       "      <th>Storage</th>\n",
       "      <th>GPU</th>\n",
       "      <th>Operating System</th>\n",
       "      <th>Operating System Version</th>\n",
       "      <th>Weight</th>\n",
       "      <th>Price (Euros)</th>\n",
       "    </tr>\n",
       "  </thead>\n",
       "  <tbody>\n",
       "    <tr>\n",
       "      <th>0</th>\n",
       "      <td>Apple</td>\n",
       "      <td>MacBook Pro</td>\n",
       "      <td>Ultrabook</td>\n",
       "      <td>13.3\"</td>\n",
       "      <td>IPS Panel Retina Display 2560x1600</td>\n",
       "      <td>Intel Core i5 2.3GHz</td>\n",
       "      <td>8GB</td>\n",
       "      <td>128GB SSD</td>\n",
       "      <td>Intel Iris Plus Graphics 640</td>\n",
       "      <td>macOS</td>\n",
       "      <td>NaN</td>\n",
       "      <td>1.37kg</td>\n",
       "      <td>1339,69</td>\n",
       "    </tr>\n",
       "    <tr>\n",
       "      <th>1</th>\n",
       "      <td>Apple</td>\n",
       "      <td>Macbook Air</td>\n",
       "      <td>Ultrabook</td>\n",
       "      <td>13.3\"</td>\n",
       "      <td>1440x900</td>\n",
       "      <td>Intel Core i5 1.8GHz</td>\n",
       "      <td>8GB</td>\n",
       "      <td>128GB Flash Storage</td>\n",
       "      <td>Intel HD Graphics 6000</td>\n",
       "      <td>macOS</td>\n",
       "      <td>NaN</td>\n",
       "      <td>1.34kg</td>\n",
       "      <td>898,94</td>\n",
       "    </tr>\n",
       "    <tr>\n",
       "      <th>2</th>\n",
       "      <td>HP</td>\n",
       "      <td>250 G6</td>\n",
       "      <td>Notebook</td>\n",
       "      <td>15.6\"</td>\n",
       "      <td>Full HD 1920x1080</td>\n",
       "      <td>Intel Core i5 7200U 2.5GHz</td>\n",
       "      <td>8GB</td>\n",
       "      <td>256GB SSD</td>\n",
       "      <td>Intel HD Graphics 620</td>\n",
       "      <td>No OS</td>\n",
       "      <td>NaN</td>\n",
       "      <td>1.86kg</td>\n",
       "      <td>575,00</td>\n",
       "    </tr>\n",
       "  </tbody>\n",
       "</table>\n",
       "</div>"
      ],
      "text/plain": [
       "  Manufacturer   Model Name   Category Screen Size  \\\n",
       "0        Apple  MacBook Pro  Ultrabook       13.3\"   \n",
       "1        Apple  Macbook Air  Ultrabook       13.3\"   \n",
       "2           HP       250 G6   Notebook       15.6\"   \n",
       "\n",
       "                               Screen                         CPU  RAM  \\\n",
       "0  IPS Panel Retina Display 2560x1600        Intel Core i5 2.3GHz  8GB   \n",
       "1                            1440x900        Intel Core i5 1.8GHz  8GB   \n",
       "2                   Full HD 1920x1080  Intel Core i5 7200U 2.5GHz  8GB   \n",
       "\n",
       "               Storage                           GPU Operating System  \\\n",
       "0            128GB SSD  Intel Iris Plus Graphics 640            macOS   \n",
       "1  128GB Flash Storage        Intel HD Graphics 6000            macOS   \n",
       "2            256GB SSD         Intel HD Graphics 620            No OS   \n",
       "\n",
       "  Operating System Version  Weight Price (Euros)  \n",
       "0                      NaN  1.37kg       1339,69  \n",
       "1                      NaN  1.34kg        898,94  \n",
       "2                      NaN  1.86kg        575,00  "
      ]
     },
     "execution_count": 3,
     "metadata": {},
     "output_type": "execute_result"
    }
   ],
   "source": [
    "laptops.head(3)"
   ]
  },
  {
   "cell_type": "code",
   "execution_count": 4,
   "metadata": {},
   "outputs": [
    {
     "name": "stdout",
     "output_type": "stream",
     "text": [
      "<class 'pandas.core.frame.DataFrame'>\n",
      "RangeIndex: 1303 entries, 0 to 1302\n",
      "Data columns (total 13 columns):\n",
      " #   Column                    Non-Null Count  Dtype \n",
      "---  ------                    --------------  ----- \n",
      " 0   Manufacturer              1303 non-null   object\n",
      " 1   Model Name                1303 non-null   object\n",
      " 2   Category                  1303 non-null   object\n",
      " 3   Screen Size               1303 non-null   object\n",
      " 4   Screen                    1303 non-null   object\n",
      " 5   CPU                       1303 non-null   object\n",
      " 6   RAM                       1303 non-null   object\n",
      " 7    Storage                  1303 non-null   object\n",
      " 8   GPU                       1303 non-null   object\n",
      " 9   Operating System          1303 non-null   object\n",
      " 10  Operating System Version  1133 non-null   object\n",
      " 11  Weight                    1303 non-null   object\n",
      " 12  Price (Euros)             1303 non-null   object\n",
      "dtypes: object(13)\n",
      "memory usage: 132.5+ KB\n"
     ]
    }
   ],
   "source": [
    "laptops.info()"
   ]
  },
  {
   "cell_type": "code",
   "execution_count": 5,
   "metadata": {
    "scrolled": true
   },
   "outputs": [
    {
     "data": {
      "text/plain": [
       "Index(['Manufacturer', 'Model Name', 'Category', 'Screen Size', 'Screen',\n",
       "       'CPU', 'RAM', ' Storage', 'GPU', 'Operating System',\n",
       "       'Operating System Version', 'Weight', 'Price (Euros)'],\n",
       "      dtype='object')"
      ]
     },
     "execution_count": 5,
     "metadata": {},
     "output_type": "execute_result"
    }
   ],
   "source": [
    "laptops.columns"
   ]
  },
  {
   "cell_type": "markdown",
   "metadata": {},
   "source": [
    "we see that our columns are in camel case instead of snake case.\n",
    "In the next cell, we will define a function to clean up the column names and also use a for loop to iterate through each column\n"
   ]
  },
  {
   "cell_type": "code",
   "execution_count": 6,
   "metadata": {},
   "outputs": [],
   "source": [
    "def clean_col(col):\n",
    "    col = col.strip()\n",
    "    col = col.replace('Operating System','OS')\n",
    "    col = col.replace(')','')\n",
    "    col = col.replace('(','')\n",
    "    col = col.lower()\n",
    "    col = col.replace(' ','_')\n",
    "    return col"
   ]
  },
  {
   "cell_type": "code",
   "execution_count": 7,
   "metadata": {},
   "outputs": [],
   "source": [
    "new_columns = []\n",
    "for column in laptops.columns:\n",
    "    clean_c = clean_col(column)\n",
    "    new_columns.append(clean_c)\n",
    "    \n",
    "laptops.columns = new_columns"
   ]
  },
  {
   "cell_type": "code",
   "execution_count": 8,
   "metadata": {},
   "outputs": [
    {
     "data": {
      "text/plain": [
       "Index(['manufacturer', 'model_name', 'category', 'screen_size', 'screen',\n",
       "       'cpu', 'ram', 'storage', 'gpu', 'os', 'os_version', 'weight',\n",
       "       'price_euros'],\n",
       "      dtype='object')"
      ]
     },
     "execution_count": 8,
     "metadata": {},
     "output_type": "execute_result"
    }
   ],
   "source": [
    "laptops.columns"
   ]
  },
  {
   "cell_type": "code",
   "execution_count": 9,
   "metadata": {},
   "outputs": [
    {
     "name": "stdout",
     "output_type": "stream",
     "text": [
      "<class 'pandas.core.frame.DataFrame'>\n",
      "RangeIndex: 1303 entries, 0 to 1302\n",
      "Data columns (total 13 columns):\n",
      " #   Column        Non-Null Count  Dtype \n",
      "---  ------        --------------  ----- \n",
      " 0   manufacturer  1303 non-null   object\n",
      " 1   model_name    1303 non-null   object\n",
      " 2   category      1303 non-null   object\n",
      " 3   screen_size   1303 non-null   object\n",
      " 4   screen        1303 non-null   object\n",
      " 5   cpu           1303 non-null   object\n",
      " 6   ram           1303 non-null   object\n",
      " 7   storage       1303 non-null   object\n",
      " 8   gpu           1303 non-null   object\n",
      " 9   os            1303 non-null   object\n",
      " 10  os_version    1133 non-null   object\n",
      " 11  weight        1303 non-null   object\n",
      " 12  price_euros   1303 non-null   object\n",
      "dtypes: object(13)\n",
      "memory usage: 132.5+ KB\n"
     ]
    }
   ],
   "source": [
    "laptops.info()"
   ]
  },
  {
   "cell_type": "markdown",
   "metadata": {},
   "source": [
    "The cells above is showing us that the columns labels are all object type, which is not supposed to be.\n",
    "In the next cells we will look at the screen_size,weight and gpu to have a clear understanding."
   ]
  },
  {
   "cell_type": "code",
   "execution_count": 10,
   "metadata": {},
   "outputs": [
    {
     "data": {
      "text/plain": [
       "array(['13.3\"', '15.6\"', '15.4\"', '14.0\"', '12.0\"', '11.6\"', '17.3\"',\n",
       "       '10.1\"', '13.5\"', '12.5\"', '13.0\"', '18.4\"', '13.9\"', '12.3\"',\n",
       "       '17.0\"', '15.0\"', '14.1\"', '11.3\"'], dtype=object)"
      ]
     },
     "execution_count": 10,
     "metadata": {},
     "output_type": "execute_result"
    }
   ],
   "source": [
    "laptops['screen_size'].unique()"
   ]
  },
  {
   "cell_type": "code",
   "execution_count": 11,
   "metadata": {},
   "outputs": [
    {
     "data": {
      "text/plain": [
       "array(['8GB', '16GB', '4GB', '2GB', '12GB', '6GB', '32GB', '24GB', '64GB'],\n",
       "      dtype=object)"
      ]
     },
     "execution_count": 11,
     "metadata": {},
     "output_type": "execute_result"
    }
   ],
   "source": [
    "laptops['ram'].unique()"
   ]
  },
  {
   "cell_type": "code",
   "execution_count": 12,
   "metadata": {},
   "outputs": [
    {
     "data": {
      "text/plain": [
       "array(['1.37kg', '1.34kg', '1.86kg', '1.83kg', '2.1kg', '2.04kg', '1.3kg',\n",
       "       '1.6kg', '2.2kg', '0.92kg', '1.22kg', '0.98kg', '2.5kg', '1.62kg',\n",
       "       '1.91kg', '2.3kg', '1.35kg', '1.88kg', '1.89kg', '1.65kg',\n",
       "       '2.71kg', '1.2kg', '1.44kg', '2.8kg', '2kg', '2.65kg', '2.77kg',\n",
       "       '3.2kg', '0.69kg', '1.49kg', '2.4kg', '2.13kg', '2.43kg', '1.7kg',\n",
       "       '1.4kg', '1.8kg', '1.9kg', '3kg', '1.252kg', '2.7kg', '2.02kg',\n",
       "       '1.63kg', '1.96kg', '1.21kg', '2.45kg', '1.25kg', '1.5kg',\n",
       "       '2.62kg', '1.38kg', '1.58kg', '1.85kg', '1.23kg', '1.26kg',\n",
       "       '2.16kg', '2.36kg', '2.05kg', '1.32kg', '1.75kg', '0.97kg',\n",
       "       '2.9kg', '2.56kg', '1.48kg', '1.74kg', '1.1kg', '1.56kg', '2.03kg',\n",
       "       '1.05kg', '4.4kg', '1.90kg', '1.29kg', '2.0kg', '1.95kg', '2.06kg',\n",
       "       '1.12kg', '1.42kg', '3.49kg', '3.35kg', '2.23kg', '4.42kg',\n",
       "       '2.69kg', '2.37kg', '4.7kg', '3.6kg', '2.08kg', '4.3kg', '1.68kg',\n",
       "       '1.41kg', '4.14kg', '2.18kg', '2.24kg', '2.67kg', '2.14kg',\n",
       "       '1.36kg', '2.25kg', '2.15kg', '2.19kg', '2.54kg', '3.42kg',\n",
       "       '1.28kg', '2.33kg', '1.45kg', '2.79kg', '1.84kg', '2.6kg',\n",
       "       '2.26kg', '3.25kg', '1.59kg', '1.13kg', '1.78kg', '1.10kg',\n",
       "       '1.15kg', '1.27kg', '1.43kg', '2.31kg', '1.16kg', '1.64kg',\n",
       "       '2.17kg', '1.47kg', '3.78kg', '1.79kg', '0.91kg', '1.99kg',\n",
       "       '4.33kg', '1.93kg', '1.87kg', '2.63kg', '3.4kg', '3.14kg',\n",
       "       '1.94kg', '1.24kg', '4.6kg', '4.5kg', '2.73kg', '1.39kg', '2.29kg',\n",
       "       '2.59kg', '2.94kg', '1.14kg', '3.8kg', '3.31kg', '1.09kg',\n",
       "       '3.21kg', '1.19kg', '1.98kg', '1.17kg', '4.36kg', '1.71kg',\n",
       "       '2.32kg', '4.2kg', '1.55kg', '0.81kg', '1.18kg', '2.72kg',\n",
       "       '1.31kg', '0.920kg', '3.74kg', '1.76kg', '1.54kg', '2.83kg',\n",
       "       '2.07kg', '2.38kg', '3.58kg', '1.08kg', '2.20kg', '2.75kg',\n",
       "       '1.70kg', '2.99kg', '1.11kg', '2.09kg', '4kgs', '3.0kg', '0.99kg',\n",
       "       '3.52kg', '2.591kg', '2.21kg', '3.3kg', '2.191kg', '2.34kg',\n",
       "       '4.0kg'], dtype=object)"
      ]
     },
     "execution_count": 12,
     "metadata": {},
     "output_type": "execute_result"
    }
   ],
   "source": [
    "laptops['weight'].unique()"
   ]
  },
  {
   "cell_type": "markdown",
   "metadata": {},
   "source": [
    "In other do perform some statistical analysis on this column labels,we need to clean them by removing the character attached to them, converting them to integer or float datatype as the case maybe and also renaming the column to retain some information about them"
   ]
  },
  {
   "cell_type": "code",
   "execution_count": 13,
   "metadata": {},
   "outputs": [],
   "source": [
    "laptops['screen_size'] = laptops['screen_size'].str.replace('\"','').astype(float)"
   ]
  },
  {
   "cell_type": "code",
   "execution_count": 14,
   "metadata": {},
   "outputs": [],
   "source": [
    "#Renaming the screen size column to show that the screen size was measured in inches\n",
    "\n",
    "laptops.rename({'screen_size':'screensize_inches'},axis=1,inplace=True)"
   ]
  },
  {
   "cell_type": "code",
   "execution_count": 15,
   "metadata": {},
   "outputs": [],
   "source": [
    "laptops['ram'] = laptops['ram'].str.replace('GB','').astype(int)"
   ]
  },
  {
   "cell_type": "code",
   "execution_count": 16,
   "metadata": {},
   "outputs": [],
   "source": [
    "#Renaming the ram column to show that the rams were in gigabyte\n",
    "\n",
    "laptops.rename({'ram':'ram_gb'},axis=1,inplace=True)"
   ]
  },
  {
   "cell_type": "code",
   "execution_count": 17,
   "metadata": {},
   "outputs": [],
   "source": [
    "laptops['weight'] = laptops['weight'].str.replace('kgs','').str.replace('kg','').astype(float)"
   ]
  },
  {
   "cell_type": "code",
   "execution_count": 18,
   "metadata": {},
   "outputs": [],
   "source": [
    "#Renaming the weight to show that the weight of the laptops were in kg\n",
    "laptops.rename({'weight':'weight_kg'},axis=1,inplace=True)"
   ]
  },
  {
   "cell_type": "code",
   "execution_count": 19,
   "metadata": {},
   "outputs": [
    {
     "name": "stdout",
     "output_type": "stream",
     "text": [
      "<class 'pandas.core.frame.DataFrame'>\n",
      "RangeIndex: 1303 entries, 0 to 1302\n",
      "Data columns (total 13 columns):\n",
      " #   Column             Non-Null Count  Dtype  \n",
      "---  ------             --------------  -----  \n",
      " 0   manufacturer       1303 non-null   object \n",
      " 1   model_name         1303 non-null   object \n",
      " 2   category           1303 non-null   object \n",
      " 3   screensize_inches  1303 non-null   float64\n",
      " 4   screen             1303 non-null   object \n",
      " 5   cpu                1303 non-null   object \n",
      " 6   ram_gb             1303 non-null   int64  \n",
      " 7   storage            1303 non-null   object \n",
      " 8   gpu                1303 non-null   object \n",
      " 9   os                 1303 non-null   object \n",
      " 10  os_version         1133 non-null   object \n",
      " 11  weight_kg          1303 non-null   float64\n",
      " 12  price_euros        1303 non-null   object \n",
      "dtypes: float64(2), int64(1), object(10)\n",
      "memory usage: 132.5+ KB\n"
     ]
    }
   ],
   "source": [
    "laptops.info()"
   ]
  },
  {
   "cell_type": "code",
   "execution_count": 20,
   "metadata": {},
   "outputs": [
    {
     "data": {
      "text/html": [
       "<div>\n",
       "<style scoped>\n",
       "    .dataframe tbody tr th:only-of-type {\n",
       "        vertical-align: middle;\n",
       "    }\n",
       "\n",
       "    .dataframe tbody tr th {\n",
       "        vertical-align: top;\n",
       "    }\n",
       "\n",
       "    .dataframe thead th {\n",
       "        text-align: right;\n",
       "    }\n",
       "</style>\n",
       "<table border=\"1\" class=\"dataframe\">\n",
       "  <thead>\n",
       "    <tr style=\"text-align: right;\">\n",
       "      <th></th>\n",
       "      <th>manufacturer</th>\n",
       "      <th>model_name</th>\n",
       "      <th>category</th>\n",
       "      <th>screensize_inches</th>\n",
       "      <th>screen</th>\n",
       "      <th>cpu</th>\n",
       "      <th>ram_gb</th>\n",
       "      <th>storage</th>\n",
       "      <th>gpu</th>\n",
       "      <th>os</th>\n",
       "      <th>os_version</th>\n",
       "      <th>weight_kg</th>\n",
       "      <th>price_euros</th>\n",
       "    </tr>\n",
       "  </thead>\n",
       "  <tbody>\n",
       "    <tr>\n",
       "      <th>count</th>\n",
       "      <td>1303</td>\n",
       "      <td>1303</td>\n",
       "      <td>1303</td>\n",
       "      <td>1303.000000</td>\n",
       "      <td>1303</td>\n",
       "      <td>1303</td>\n",
       "      <td>1303.000000</td>\n",
       "      <td>1303</td>\n",
       "      <td>1303</td>\n",
       "      <td>1303</td>\n",
       "      <td>1133</td>\n",
       "      <td>1303.000000</td>\n",
       "      <td>1303</td>\n",
       "    </tr>\n",
       "    <tr>\n",
       "      <th>unique</th>\n",
       "      <td>19</td>\n",
       "      <td>618</td>\n",
       "      <td>6</td>\n",
       "      <td>NaN</td>\n",
       "      <td>40</td>\n",
       "      <td>118</td>\n",
       "      <td>NaN</td>\n",
       "      <td>38</td>\n",
       "      <td>110</td>\n",
       "      <td>7</td>\n",
       "      <td>4</td>\n",
       "      <td>NaN</td>\n",
       "      <td>791</td>\n",
       "    </tr>\n",
       "    <tr>\n",
       "      <th>top</th>\n",
       "      <td>Lenovo</td>\n",
       "      <td>XPS 13</td>\n",
       "      <td>Notebook</td>\n",
       "      <td>NaN</td>\n",
       "      <td>Full HD 1920x1080</td>\n",
       "      <td>Intel Core i5 7200U 2.5GHz</td>\n",
       "      <td>NaN</td>\n",
       "      <td>256GB SSD</td>\n",
       "      <td>Intel HD Graphics 620</td>\n",
       "      <td>Windows</td>\n",
       "      <td>10</td>\n",
       "      <td>NaN</td>\n",
       "      <td>1799,00</td>\n",
       "    </tr>\n",
       "    <tr>\n",
       "      <th>freq</th>\n",
       "      <td>297</td>\n",
       "      <td>30</td>\n",
       "      <td>727</td>\n",
       "      <td>NaN</td>\n",
       "      <td>507</td>\n",
       "      <td>190</td>\n",
       "      <td>NaN</td>\n",
       "      <td>412</td>\n",
       "      <td>281</td>\n",
       "      <td>1125</td>\n",
       "      <td>1072</td>\n",
       "      <td>NaN</td>\n",
       "      <td>14</td>\n",
       "    </tr>\n",
       "    <tr>\n",
       "      <th>mean</th>\n",
       "      <td>NaN</td>\n",
       "      <td>NaN</td>\n",
       "      <td>NaN</td>\n",
       "      <td>15.017191</td>\n",
       "      <td>NaN</td>\n",
       "      <td>NaN</td>\n",
       "      <td>8.382195</td>\n",
       "      <td>NaN</td>\n",
       "      <td>NaN</td>\n",
       "      <td>NaN</td>\n",
       "      <td>NaN</td>\n",
       "      <td>2.038734</td>\n",
       "      <td>NaN</td>\n",
       "    </tr>\n",
       "    <tr>\n",
       "      <th>std</th>\n",
       "      <td>NaN</td>\n",
       "      <td>NaN</td>\n",
       "      <td>NaN</td>\n",
       "      <td>1.426304</td>\n",
       "      <td>NaN</td>\n",
       "      <td>NaN</td>\n",
       "      <td>5.084665</td>\n",
       "      <td>NaN</td>\n",
       "      <td>NaN</td>\n",
       "      <td>NaN</td>\n",
       "      <td>NaN</td>\n",
       "      <td>0.665475</td>\n",
       "      <td>NaN</td>\n",
       "    </tr>\n",
       "    <tr>\n",
       "      <th>min</th>\n",
       "      <td>NaN</td>\n",
       "      <td>NaN</td>\n",
       "      <td>NaN</td>\n",
       "      <td>10.100000</td>\n",
       "      <td>NaN</td>\n",
       "      <td>NaN</td>\n",
       "      <td>2.000000</td>\n",
       "      <td>NaN</td>\n",
       "      <td>NaN</td>\n",
       "      <td>NaN</td>\n",
       "      <td>NaN</td>\n",
       "      <td>0.690000</td>\n",
       "      <td>NaN</td>\n",
       "    </tr>\n",
       "    <tr>\n",
       "      <th>25%</th>\n",
       "      <td>NaN</td>\n",
       "      <td>NaN</td>\n",
       "      <td>NaN</td>\n",
       "      <td>14.000000</td>\n",
       "      <td>NaN</td>\n",
       "      <td>NaN</td>\n",
       "      <td>4.000000</td>\n",
       "      <td>NaN</td>\n",
       "      <td>NaN</td>\n",
       "      <td>NaN</td>\n",
       "      <td>NaN</td>\n",
       "      <td>1.500000</td>\n",
       "      <td>NaN</td>\n",
       "    </tr>\n",
       "    <tr>\n",
       "      <th>50%</th>\n",
       "      <td>NaN</td>\n",
       "      <td>NaN</td>\n",
       "      <td>NaN</td>\n",
       "      <td>15.600000</td>\n",
       "      <td>NaN</td>\n",
       "      <td>NaN</td>\n",
       "      <td>8.000000</td>\n",
       "      <td>NaN</td>\n",
       "      <td>NaN</td>\n",
       "      <td>NaN</td>\n",
       "      <td>NaN</td>\n",
       "      <td>2.040000</td>\n",
       "      <td>NaN</td>\n",
       "    </tr>\n",
       "    <tr>\n",
       "      <th>75%</th>\n",
       "      <td>NaN</td>\n",
       "      <td>NaN</td>\n",
       "      <td>NaN</td>\n",
       "      <td>15.600000</td>\n",
       "      <td>NaN</td>\n",
       "      <td>NaN</td>\n",
       "      <td>8.000000</td>\n",
       "      <td>NaN</td>\n",
       "      <td>NaN</td>\n",
       "      <td>NaN</td>\n",
       "      <td>NaN</td>\n",
       "      <td>2.300000</td>\n",
       "      <td>NaN</td>\n",
       "    </tr>\n",
       "    <tr>\n",
       "      <th>max</th>\n",
       "      <td>NaN</td>\n",
       "      <td>NaN</td>\n",
       "      <td>NaN</td>\n",
       "      <td>18.400000</td>\n",
       "      <td>NaN</td>\n",
       "      <td>NaN</td>\n",
       "      <td>64.000000</td>\n",
       "      <td>NaN</td>\n",
       "      <td>NaN</td>\n",
       "      <td>NaN</td>\n",
       "      <td>NaN</td>\n",
       "      <td>4.700000</td>\n",
       "      <td>NaN</td>\n",
       "    </tr>\n",
       "  </tbody>\n",
       "</table>\n",
       "</div>"
      ],
      "text/plain": [
       "       manufacturer model_name  category  screensize_inches  \\\n",
       "count          1303       1303      1303        1303.000000   \n",
       "unique           19        618         6                NaN   \n",
       "top          Lenovo     XPS 13  Notebook                NaN   \n",
       "freq            297         30       727                NaN   \n",
       "mean            NaN        NaN       NaN          15.017191   \n",
       "std             NaN        NaN       NaN           1.426304   \n",
       "min             NaN        NaN       NaN          10.100000   \n",
       "25%             NaN        NaN       NaN          14.000000   \n",
       "50%             NaN        NaN       NaN          15.600000   \n",
       "75%             NaN        NaN       NaN          15.600000   \n",
       "max             NaN        NaN       NaN          18.400000   \n",
       "\n",
       "                   screen                         cpu       ram_gb    storage  \\\n",
       "count                1303                        1303  1303.000000       1303   \n",
       "unique                 40                         118          NaN         38   \n",
       "top     Full HD 1920x1080  Intel Core i5 7200U 2.5GHz          NaN  256GB SSD   \n",
       "freq                  507                         190          NaN        412   \n",
       "mean                  NaN                         NaN     8.382195        NaN   \n",
       "std                   NaN                         NaN     5.084665        NaN   \n",
       "min                   NaN                         NaN     2.000000        NaN   \n",
       "25%                   NaN                         NaN     4.000000        NaN   \n",
       "50%                   NaN                         NaN     8.000000        NaN   \n",
       "75%                   NaN                         NaN     8.000000        NaN   \n",
       "max                   NaN                         NaN    64.000000        NaN   \n",
       "\n",
       "                          gpu       os os_version    weight_kg price_euros  \n",
       "count                    1303     1303       1133  1303.000000        1303  \n",
       "unique                    110        7          4          NaN         791  \n",
       "top     Intel HD Graphics 620  Windows         10          NaN     1799,00  \n",
       "freq                      281     1125       1072          NaN          14  \n",
       "mean                      NaN      NaN        NaN     2.038734         NaN  \n",
       "std                       NaN      NaN        NaN     0.665475         NaN  \n",
       "min                       NaN      NaN        NaN     0.690000         NaN  \n",
       "25%                       NaN      NaN        NaN     1.500000         NaN  \n",
       "50%                       NaN      NaN        NaN     2.040000         NaN  \n",
       "75%                       NaN      NaN        NaN     2.300000         NaN  \n",
       "max                       NaN      NaN        NaN     4.700000         NaN  "
      ]
     },
     "execution_count": 20,
     "metadata": {},
     "output_type": "execute_result"
    }
   ],
   "source": [
    "laptops.describe(include='all')"
   ]
  },
  {
   "cell_type": "code",
   "execution_count": 21,
   "metadata": {},
   "outputs": [
    {
     "data": {
      "text/html": [
       "<div>\n",
       "<style scoped>\n",
       "    .dataframe tbody tr th:only-of-type {\n",
       "        vertical-align: middle;\n",
       "    }\n",
       "\n",
       "    .dataframe tbody tr th {\n",
       "        vertical-align: top;\n",
       "    }\n",
       "\n",
       "    .dataframe thead th {\n",
       "        text-align: right;\n",
       "    }\n",
       "</style>\n",
       "<table border=\"1\" class=\"dataframe\">\n",
       "  <thead>\n",
       "    <tr style=\"text-align: right;\">\n",
       "      <th></th>\n",
       "      <th>manufacturer</th>\n",
       "      <th>model_name</th>\n",
       "      <th>category</th>\n",
       "      <th>screensize_inches</th>\n",
       "      <th>screen</th>\n",
       "      <th>cpu</th>\n",
       "      <th>ram_gb</th>\n",
       "      <th>storage</th>\n",
       "      <th>gpu</th>\n",
       "      <th>os</th>\n",
       "      <th>os_version</th>\n",
       "      <th>weight_kg</th>\n",
       "      <th>price_euros</th>\n",
       "    </tr>\n",
       "  </thead>\n",
       "  <tbody>\n",
       "    <tr>\n",
       "      <th>0</th>\n",
       "      <td>Apple</td>\n",
       "      <td>MacBook Pro</td>\n",
       "      <td>Ultrabook</td>\n",
       "      <td>13.3</td>\n",
       "      <td>IPS Panel Retina Display 2560x1600</td>\n",
       "      <td>Intel Core i5 2.3GHz</td>\n",
       "      <td>8</td>\n",
       "      <td>128GB SSD</td>\n",
       "      <td>Intel Iris Plus Graphics 640</td>\n",
       "      <td>macOS</td>\n",
       "      <td>NaN</td>\n",
       "      <td>1.37</td>\n",
       "      <td>1339,69</td>\n",
       "    </tr>\n",
       "    <tr>\n",
       "      <th>1</th>\n",
       "      <td>Apple</td>\n",
       "      <td>Macbook Air</td>\n",
       "      <td>Ultrabook</td>\n",
       "      <td>13.3</td>\n",
       "      <td>1440x900</td>\n",
       "      <td>Intel Core i5 1.8GHz</td>\n",
       "      <td>8</td>\n",
       "      <td>128GB Flash Storage</td>\n",
       "      <td>Intel HD Graphics 6000</td>\n",
       "      <td>macOS</td>\n",
       "      <td>NaN</td>\n",
       "      <td>1.34</td>\n",
       "      <td>898,94</td>\n",
       "    </tr>\n",
       "    <tr>\n",
       "      <th>2</th>\n",
       "      <td>HP</td>\n",
       "      <td>250 G6</td>\n",
       "      <td>Notebook</td>\n",
       "      <td>15.6</td>\n",
       "      <td>Full HD 1920x1080</td>\n",
       "      <td>Intel Core i5 7200U 2.5GHz</td>\n",
       "      <td>8</td>\n",
       "      <td>256GB SSD</td>\n",
       "      <td>Intel HD Graphics 620</td>\n",
       "      <td>No OS</td>\n",
       "      <td>NaN</td>\n",
       "      <td>1.86</td>\n",
       "      <td>575,00</td>\n",
       "    </tr>\n",
       "    <tr>\n",
       "      <th>3</th>\n",
       "      <td>Apple</td>\n",
       "      <td>MacBook Pro</td>\n",
       "      <td>Ultrabook</td>\n",
       "      <td>15.4</td>\n",
       "      <td>IPS Panel Retina Display 2880x1800</td>\n",
       "      <td>Intel Core i7 2.7GHz</td>\n",
       "      <td>16</td>\n",
       "      <td>512GB SSD</td>\n",
       "      <td>AMD Radeon Pro 455</td>\n",
       "      <td>macOS</td>\n",
       "      <td>NaN</td>\n",
       "      <td>1.83</td>\n",
       "      <td>2537,45</td>\n",
       "    </tr>\n",
       "    <tr>\n",
       "      <th>4</th>\n",
       "      <td>Apple</td>\n",
       "      <td>MacBook Pro</td>\n",
       "      <td>Ultrabook</td>\n",
       "      <td>13.3</td>\n",
       "      <td>IPS Panel Retina Display 2560x1600</td>\n",
       "      <td>Intel Core i5 3.1GHz</td>\n",
       "      <td>8</td>\n",
       "      <td>256GB SSD</td>\n",
       "      <td>Intel Iris Plus Graphics 650</td>\n",
       "      <td>macOS</td>\n",
       "      <td>NaN</td>\n",
       "      <td>1.37</td>\n",
       "      <td>1803,60</td>\n",
       "    </tr>\n",
       "  </tbody>\n",
       "</table>\n",
       "</div>"
      ],
      "text/plain": [
       "  manufacturer   model_name   category  screensize_inches  \\\n",
       "0        Apple  MacBook Pro  Ultrabook               13.3   \n",
       "1        Apple  Macbook Air  Ultrabook               13.3   \n",
       "2           HP       250 G6   Notebook               15.6   \n",
       "3        Apple  MacBook Pro  Ultrabook               15.4   \n",
       "4        Apple  MacBook Pro  Ultrabook               13.3   \n",
       "\n",
       "                               screen                         cpu  ram_gb  \\\n",
       "0  IPS Panel Retina Display 2560x1600        Intel Core i5 2.3GHz       8   \n",
       "1                            1440x900        Intel Core i5 1.8GHz       8   \n",
       "2                   Full HD 1920x1080  Intel Core i5 7200U 2.5GHz       8   \n",
       "3  IPS Panel Retina Display 2880x1800        Intel Core i7 2.7GHz      16   \n",
       "4  IPS Panel Retina Display 2560x1600        Intel Core i5 3.1GHz       8   \n",
       "\n",
       "               storage                           gpu     os os_version  \\\n",
       "0            128GB SSD  Intel Iris Plus Graphics 640  macOS        NaN   \n",
       "1  128GB Flash Storage        Intel HD Graphics 6000  macOS        NaN   \n",
       "2            256GB SSD         Intel HD Graphics 620  No OS        NaN   \n",
       "3            512GB SSD            AMD Radeon Pro 455  macOS        NaN   \n",
       "4            256GB SSD  Intel Iris Plus Graphics 650  macOS        NaN   \n",
       "\n",
       "   weight_kg price_euros  \n",
       "0       1.37     1339,69  \n",
       "1       1.34      898,94  \n",
       "2       1.86      575,00  \n",
       "3       1.83     2537,45  \n",
       "4       1.37     1803,60  "
      ]
     },
     "execution_count": 21,
     "metadata": {},
     "output_type": "execute_result"
    }
   ],
   "source": [
    "laptops.head()"
   ]
  },
  {
   "cell_type": "code",
   "execution_count": 22,
   "metadata": {},
   "outputs": [
    {
     "data": {
      "text/plain": [
       "Intel Core i5 7200U 2.5GHz     190\n",
       "Intel Core i7 7700HQ 2.8GHz    146\n",
       "Intel Core i7 7500U 2.7GHz     134\n",
       "Intel Core i7 8550U 1.8GHz      73\n",
       "Intel Core i5 8250U 1.6GHz      72\n",
       "                              ... \n",
       "Intel Core i5 2.0GHz             1\n",
       "Intel Core M m3 1.2GHz           1\n",
       "Intel Core M m3-7Y30 2.2GHz      1\n",
       "Intel Core i5 7200U 2.7GHz       1\n",
       "AMD E-Series 9000e 1.5GHz        1\n",
       "Name: cpu, Length: 118, dtype: int64"
      ]
     },
     "execution_count": 22,
     "metadata": {},
     "output_type": "execute_result"
    }
   ],
   "source": [
    "laptops['cpu'].value_counts()"
   ]
  },
  {
   "cell_type": "code",
   "execution_count": 23,
   "metadata": {},
   "outputs": [],
   "source": [
    "#Creating a new column for cpu manufacturer.\n",
    "laptops['cpu_manufacturer'] = laptops['cpu'].str.split().str[0]"
   ]
  },
  {
   "cell_type": "code",
   "execution_count": 24,
   "metadata": {},
   "outputs": [
    {
     "data": {
      "image/png": "[encoded data removed]",
      "text/plain": [
       "<Figure size 720x576 with 1 Axes>"
      ]
     },
     "metadata": {
      "needs_background": "light"
     },
     "output_type": "display_data"
    }
   ],
   "source": [
    "cpu_manufacturer= laptops['cpu_manufacturer'].value_counts(normalize=True)*100\n",
    "cpu_manufacturer.plot(kind='bar',rot=0,color='r',figsize=(10,8));\n",
    "plt.xlabel('Names Of CPU Manufacturer',color='black',fontsize=15);\n",
    "plt.ylabel('Frequency Of CPU Manufactured In Percentage',color='black',fontsize=15);\n",
    "plt.title('Companies and Percentage of Cpu manufacturered',color='black',fontsize=15);           "
   ]
  },
  {
   "cell_type": "markdown",
   "metadata": {},
   "source": [
    "Intel are the highest manufacturer of cpu taking 95% of the dataset"
   ]
  },
  {
   "cell_type": "code",
   "execution_count": 25,
   "metadata": {},
   "outputs": [
    {
     "name": "stdout",
     "output_type": "stream",
     "text": [
      "<class 'pandas.core.frame.DataFrame'>\n",
      "RangeIndex: 1303 entries, 0 to 1302\n",
      "Data columns (total 14 columns):\n",
      " #   Column             Non-Null Count  Dtype  \n",
      "---  ------             --------------  -----  \n",
      " 0   manufacturer       1303 non-null   object \n",
      " 1   model_name         1303 non-null   object \n",
      " 2   category           1303 non-null   object \n",
      " 3   screensize_inches  1303 non-null   float64\n",
      " 4   screen             1303 non-null   object \n",
      " 5   cpu                1303 non-null   object \n",
      " 6   ram_gb             1303 non-null   int64  \n",
      " 7   storage            1303 non-null   object \n",
      " 8   gpu                1303 non-null   object \n",
      " 9   os                 1303 non-null   object \n",
      " 10  os_version         1133 non-null   object \n",
      " 11  weight_kg          1303 non-null   float64\n",
      " 12  price_euros        1303 non-null   object \n",
      " 13  cpu_manufacturer   1303 non-null   object \n",
      "dtypes: float64(2), int64(1), object(11)\n",
      "memory usage: 142.6+ KB\n"
     ]
    }
   ],
   "source": [
    "laptops.info()"
   ]
  },
  {
   "cell_type": "code",
   "execution_count": 26,
   "metadata": {},
   "outputs": [
    {
     "data": {
      "text/plain": [
       "array(['macOS', 'No OS', 'Windows', 'Mac OS', 'Linux', 'Android',\n",
       "       'Chrome OS'], dtype=object)"
      ]
     },
     "execution_count": 26,
     "metadata": {},
     "output_type": "execute_result"
    }
   ],
   "source": [
    "laptops['os'].unique()"
   ]
  },
  {
   "cell_type": "code",
   "execution_count": 27,
   "metadata": {},
   "outputs": [
    {
     "data": {
      "text/plain": [
       "Windows      86.339217\n",
       "No OS         5.065234\n",
       "Linux         4.758250\n",
       "Chrome OS     2.072141\n",
       "macOS         0.997698\n",
       "Mac OS        0.613968\n",
       "Android       0.153492\n",
       "Name: os, dtype: float64"
      ]
     },
     "execution_count": 27,
     "metadata": {},
     "output_type": "execute_result"
    }
   ],
   "source": [
    "laptops['os'].value_counts(normalize=True,dropna=False)*100"
   ]
  },
  {
   "cell_type": "markdown",
   "metadata": {},
   "source": [
    "we can see that most of the laptops are using the windows operating system.\n",
    "We an os named No Os which might have been that there was no information for the os at the time of filling the information.\n",
    "Also, we can mac os appearing twice.\n",
    "\n",
    "Let's take a look at the os version to see if there is any relationship between them"
   ]
  },
  {
   "cell_type": "code",
   "execution_count": 28,
   "metadata": {},
   "outputs": [
    {
     "data": {
      "text/plain": [
       "10      82.271681\n",
       "NaN     13.046815\n",
       "7        3.453569\n",
       "10 S     0.613968\n",
       "X        0.613968\n",
       "Name: os_version, dtype: float64"
      ]
     },
     "execution_count": 28,
     "metadata": {},
     "output_type": "execute_result"
    }
   ],
   "source": [
    "laptops['os_version'].value_counts(normalize=True,dropna=False)*100"
   ]
  },
  {
   "cell_type": "code",
   "execution_count": 29,
   "metadata": {},
   "outputs": [],
   "source": [
    "laptops.loc[laptops['os']=='No OS','os_version']='Version Unknown'"
   ]
  },
  {
   "cell_type": "code",
   "execution_count": 30,
   "metadata": {},
   "outputs": [
    {
     "data": {
      "text/plain": [
       "10                 82.271681\n",
       "NaN                 7.981581\n",
       "Version Unknown     5.065234\n",
       "7                   3.453569\n",
       "10 S                0.613968\n",
       "X                   0.613968\n",
       "Name: os_version, dtype: float64"
      ]
     },
     "execution_count": 30,
     "metadata": {},
     "output_type": "execute_result"
    }
   ],
   "source": [
    "laptops['os_version'].value_counts(normalize=True,dropna=False)*100"
   ]
  },
  {
   "cell_type": "code",
   "execution_count": 31,
   "metadata": {},
   "outputs": [],
   "source": [
    "no_os_version=laptops.loc[laptops['os_version'].isnull(),'os'].value_counts(normalize=True)*100"
   ]
  },
  {
   "cell_type": "code",
   "execution_count": 32,
   "metadata": {},
   "outputs": [
    {
     "data": {
      "image/png": "[encoded data removed]",
      "text/plain": [
       "<Figure size 720x576 with 1 Axes>"
      ]
     },
     "metadata": {
      "needs_background": "light"
     },
     "output_type": "display_data"
    }
   ],
   "source": [
    "no_os_version.plot(kind='bar',color='blue',rot=0,figsize=(10,8));\n",
    "plt.xlabel('Names Of Operating System',color='black',fontsize=15);\n",
    "plt.ylabel('Percentage',color='black',fontsize=15)\n",
    "plt.title('Operating System Without Os-Version\\n(PERCENTAGE)',color='black',fontsize=15);"
   ]
  },
  {
   "cell_type": "markdown",
   "metadata": {},
   "source": [
    "Linux is the highest OS in our dataset without any OS version, taking 60%"
   ]
  },
  {
   "cell_type": "code",
   "execution_count": 33,
   "metadata": {},
   "outputs": [
    {
     "name": "stdout",
     "output_type": "stream",
     "text": [
      "<class 'pandas.core.frame.DataFrame'>\n",
      "RangeIndex: 1303 entries, 0 to 1302\n",
      "Data columns (total 14 columns):\n",
      " #   Column             Non-Null Count  Dtype  \n",
      "---  ------             --------------  -----  \n",
      " 0   manufacturer       1303 non-null   object \n",
      " 1   model_name         1303 non-null   object \n",
      " 2   category           1303 non-null   object \n",
      " 3   screensize_inches  1303 non-null   float64\n",
      " 4   screen             1303 non-null   object \n",
      " 5   cpu                1303 non-null   object \n",
      " 6   ram_gb             1303 non-null   int64  \n",
      " 7   storage            1303 non-null   object \n",
      " 8   gpu                1303 non-null   object \n",
      " 9   os                 1303 non-null   object \n",
      " 10  os_version         1199 non-null   object \n",
      " 11  weight_kg          1303 non-null   float64\n",
      " 12  price_euros        1303 non-null   object \n",
      " 13  cpu_manufacturer   1303 non-null   object \n",
      "dtypes: float64(2), int64(1), object(11)\n",
      "memory usage: 142.6+ KB\n"
     ]
    }
   ],
   "source": [
    "laptops.info()"
   ]
  },
  {
   "cell_type": "markdown",
   "metadata": {},
   "source": [
    "The price of the laptops are of the type object dtype.\n",
    "In the next cell we will convert in to a float datatype"
   ]
  },
  {
   "cell_type": "code",
   "execution_count": 34,
   "metadata": {},
   "outputs": [
    {
     "data": {
      "text/plain": [
       "array(['1339,69', '898,94', '575,00', '2537,45', '1803,60', '400,00',\n",
       "       '2139,97', '1158,70', '1495,00', '770,00', '393,90', '344,99',\n",
       "       '2439,97', '498,90', '1262,40', '1518,55', '745,00', '2858,00',\n",
       "       '499,00', '979,00', '191,90', '999,00', '258,00', '819,00',\n",
       "       '659,00', '418,64', '1099,00', '800,00', '1298,00', '896,00',\n",
       "       '244,99', '199,00', '439,00', '1869,00', '998,00', '249,00',\n",
       "       '367,00', '488,69', '879,00', '389,00', '1499,00', '522,99',\n",
       "       '682,00', '1419,00', '369,00', '1299,00', '639,00', '466,00',\n",
       "       '319,00', '841,00', '398,49', '1103,00', '384,00', '767,80',\n",
       "       '586,19', '2449,00', '415,00', '599,00', '941,00', '690,00',\n",
       "       '1983,00', '438,69', '229,00', '549,00', '949,00', '1089,00',\n",
       "       '955,00', '870,00', '1095,00', '519,00', '855,00', '530,00',\n",
       "       '977,00', '1096,16', '1510,00', '860,00', '399,00', '395,00',\n",
       "       '1349,00', '699,00', '598,99', '1449,00', '1649,00', '689,00',\n",
       "       '1197,00', '1195,00', '1049,00', '847,00', '599,90', '485,00',\n",
       "       '577,00', '1249,00', '719,00', '349,00', '647,00', '1119,00',\n",
       "       '1340,00', '414,90', '1193,00', '1480,00', '1262,00', '1379,00',\n",
       "       '1399,00', '722,00', '1629,00', '1398,99', '1084,00', '1130,33',\n",
       "       '564,00', '1118,00', '479,00', '2241,50', '629,00', '1271,00',\n",
       "       '451,00', '259,00', '812,00', '277,99', '1396,00', '928,00',\n",
       "       '638,99', '449,00', '884,00', '572,00', '598,00', '988,00',\n",
       "       '252,36', '938,00', '655,00', '1116,02', '869,00', '602,00',\n",
       "       '2014,00', '344,00', '2029,00', '447,00', '1249,26', '899,00',\n",
       "       '498,00', '1890,00', '1082,00', '619,00', '1315,00', '403,00',\n",
       "       '805,00', '728,00', '1079,00', '348,00', '1799,00', '363,51',\n",
       "       '1060,49', '854,00', '754,00', '309,00', '489,00', '923,00',\n",
       "       '459,00', '2799,00', '813,00', '1849,00', '793,00', '1199,00',\n",
       "       '1549,00', '2397,00', '779,00', '989,00', '1085,00', '2824,00',\n",
       "       '260,00', '999,90', '698,00', '839,00', '914,00', '6099,00',\n",
       "       '959,00', '1045,00', '1845,00', '493,00', '742,00', '1749,00',\n",
       "       '3055,00', '1398,00', '1949,00', '597,00', '1407,00', '931,88',\n",
       "       '589,00', '1031,00', '1149,00', '1279,00', '677,35', '1363,00',\n",
       "       '794,00', '2456,34', '832,00', '859,01', '769,00', '891,00',\n",
       "       '1269,00', '398,99', '330,00', '859,00', '390,00', '3890,00',\n",
       "       '846,00', '1145,00', '889,00', '985,00', '559,00', '2999,00',\n",
       "       '675,00', '2040,00', '469,00', '702,00', '445,90', '1059,00',\n",
       "       '2499,00', '1699,00', '1142,00', '444,00', '657,00', '565,00',\n",
       "       '799,00', '467,00', '1018,00', '880,00', '1958,90', '735,07',\n",
       "       '713,07', '849,00', '428,00', '829,00', '579,00', '951,00',\n",
       "       '1097,00', '1179,00', '659,01', '1187,00', '1829,00', '739,00',\n",
       "       '2884,86', '1468,00', '509,00', '2122,00', '649,00', '1265,00',\n",
       "       '359,99', '1975,00', '1043,00', '2099,00', '275,00', '844,00',\n",
       "       '459,90', '980,00', '1292,00', '1094,00', '902,00', '292,00',\n",
       "       '1049,90', '1335,00', '2639,00', '943,00', '1334,00', '1268,00',\n",
       "       '1144,00', '274,99', '1142,75', '274,90', '716,00', '1579,00',\n",
       "       '1129,00', '279,00', '1607,96', '375,00', '663,00', '2027,42',\n",
       "       '1304,00', '1409,00', '1738,27', '1403,00', '970,90', '321,99',\n",
       "       '557,37', '1427,00', '945,00', '809,00', '1750,00', '426,00',\n",
       "       '2199,00', '869,01', '488,99', '553,00', '286,00', '1191,00',\n",
       "       '403,50', '1655,00', '1748,90', '2282,00', '1369,00', '2135,00',\n",
       "       '2509,00', '1039,00', '1591,00', '693,99', '778,87', '1229,56',\n",
       "       '2712,00', '2625,00', '306,00', '1529,00', '1144,50', '2249,00',\n",
       "       '1873,00', '1747,00', '1680,00', '409,00', '304,45', '1925,00',\n",
       "       '1943,00', '789,01', '598,90', '1500,00', '539,95', '1215,38',\n",
       "       '1899,00', '1159,00', '1142,40', '1999,00', '299,00', '269,00',\n",
       "       '1010,00', '2445,00', '1695,00', '347,00', '2382,00', '749,00',\n",
       "       '1429,00', '441,80', '1993,00', '1027,74', '2589,00', '1534,00',\n",
       "       '1345,00', '2046,00', '639,90', '544,00', '435,00', '2090,00',\n",
       "       '304,00', '759,00', '1858,00', '1154,00', '1275,00', '1841,85',\n",
       "       '740,00', '2408,00', '1364,00', '1672,00', '586,60', '726,00',\n",
       "       '248,90', '2338,00', '1798,00', '1950,00', '1011,99', '1350,00',\n",
       "       '898,90', '911,00', '340,00', '618,99', '1599,00', '265,00',\n",
       "       '1224,00', '613,00', '1323,00', '836,00', '1219,24', '1399,95',\n",
       "       '245,00', '521,47', '2968,00', '1504,00', '1279,73', '585,00',\n",
       "       '1377,00', '3012,77', '797,41', '735,87', '798,00', '705,50',\n",
       "       '785,00', '462,35', '397,00', '1729,00', '1116,99', '2699,00',\n",
       "       '544,15', '1280,00', '224,00', '255,00', '568,90', '617,90',\n",
       "       '630,00', '1965,00', '990,00', '1860,99', '830,00', '685,00',\n",
       "       '1865,00', '2663,00', '2729,00', '749,01', '1008,52', '1537,39',\n",
       "       '295,00', '2349,00', '1498,00', '1673,00', '609,00', '1770,00',\n",
       "       '603,00', '529,00', '2025,00', '1474,00', '1670,00', '1763,00',\n",
       "       '1219,00', '668,48', '329,00', '465,00', '2299,00', '4899,00',\n",
       "       '879,01', '443,90', '359,00', '1168,00', '569,00', '1389,00',\n",
       "       '2267,86', '379,00', '1124,00', '1465,00', '776,00', '932,00',\n",
       "       '239,00', '468,00', '639,01', '1820,00', '1900,00', '1479,00',\n",
       "       '906,62', '1757,42', '2399,00', '1109,00', '520,90', '2450,00',\n",
       "       '1169,00', '450,00', '274,00', '919,00', '2599,00', '1213,00',\n",
       "       '1584,00', '709,00', '1449,90', '1191,80', '364,90', '1064,00',\n",
       "       '1135,00', '1196,00', '3147,37', '1229,00', '419,00', '535,00',\n",
       "       '539,00', '1486,77', '1258,00', '412,00', '1867,85', '817,95',\n",
       "       '1034,00', '1294,00', '495,00', '997,90', '2051,00', '2813,75',\n",
       "       '612,61', '545,67', '318,00', '1907,99', '2590,00', '973,00',\n",
       "       '669,00', '1877,00', '429,00', '621,45', '795,00', '1855,00',\n",
       "       '655,01', '298,00', '1426,66', '857,07', '1200,00', '1686,64',\n",
       "       '836,60', '3659,40', '1348,48', '489,90', '589,52', '1935,00',\n",
       "       '650,00', '960,00', '2419,00', '2094,48', '410,80', '1207,00',\n",
       "       '665,00', '1535,00', '3299,00', '1126,71', '4389,00', '475,00',\n",
       "       '1096,00', '849,90', '1561,00', '2868,99', '1048,00', '1859,00',\n",
       "       '1559,00', '470,34', '1181,27', '1020,00', '1244,00', '2370,00',\n",
       "       '636,00', '2899,00', '581,90', '3588,80', '2350,00', '1764,00',\n",
       "       '1891,00', '1339,00', '202,90', '1970,00', '1165,00', '2330,00',\n",
       "       '810,00', '2064,90', '744,00', '780,00', '1679,00', '2415,00',\n",
       "       '961,00', '789,81', '385,00', '2505,02', '755,00', '1090,00',\n",
       "       '1875,00', '1358,00', '355,00', '5499,00', '1186,00', '1650,00',\n",
       "       '2774,63', '325,00', '590,00', '3072,89', '910,00', '713,99',\n",
       "       '1870,00', '615,00', '1026,00', '2277,00', '865,00', '1903,00',\n",
       "       '787,00', '2559,00', '850,66', '1285,00', '1017,00', '2240,00',\n",
       "       '1778,00', '1055,00', '1388,00', '735,00', '1690,00', '935,00',\n",
       "       '912,50', '1700,00', '684,80', '455,70', '1369,90', '297,00',\n",
       "       '2649,00', '1475,00', '929,00', '900,00', '614,00', '2013,10',\n",
       "       '2049,00', '1962,99', '1483,00', '789,00', '1205,00', '3100,00',\n",
       "       '1018,99', '881,00', '1119,91', '684,99', '1296,99', '1825,00',\n",
       "       '729,90', '708,06', '288,90', '1105,00', '1669,00', '558,60',\n",
       "       '1639,00', '2758,00', '1472,20', '1775,00', '1460,00', '1488,99',\n",
       "       '3154,00', '775,00', '1760,00', '1009,00', '1790,00', '846,50',\n",
       "       '465,62', '825,00', '3149,00', '695,00', '1962,98', '2800,00',\n",
       "       '1180,00', '2049,90', '1002,00', '915,00', '806,00', '1189,00',\n",
       "       '1908,00', '270,62', '1150,00', '380,00', '2089,00', '1260,00',\n",
       "       '547,00', '1099,99', '1049,26', '684,00', '1539,00', '1590,00',\n",
       "       '1887,21', '1210,00', '769,99', '1490,00', '2229,00', '795,99',\n",
       "       '1185,43', '1046,44', '1060,00', '1624,00', '1080,00', '1228,99',\n",
       "       '1725,00', '1062,95', '1010,51', '210,80', '1425,00', '1049,60',\n",
       "       '1000,00', '2103,34', '1469,00', '1545,64', '2289,99', '287,90',\n",
       "       '2620,00', '2254,00', '705,15', '1819,00', '1070,00', '989,99',\n",
       "       '1929,00', '1458,00', '3975,00', '798,01', '1329,00', '1300,00',\n",
       "       '481,98', '1713,49', '540,00', '940,00', '3240,00', '646,27',\n",
       "       '750,00', '1030,99', '387,00', '393,49', '345,99', '818,35',\n",
       "       '638,80', '500,00', '1135,15', '1166,97', '209,00', '1413,10',\n",
       "       '1511,19', '867,00', '398,00', '769,15', '1969,00', '2749,99',\n",
       "       '1029,00', '2226,00', '1312,49', '196,00', '1513,00', '523,63',\n",
       "       '1895,00', '2050,38', '278,00', '752,00', '616,00', '3949,40',\n",
       "       '784,00', '2171,72', '2440,00', '1142,80', '2296,95', '1009,90',\n",
       "       '2339,00', '339,00', '2250,68', '478,89', '1492,80', '788,49',\n",
       "       '2041,00', '1769,00', '476,99', '1390,00', '679,00', '1305,00',\n",
       "       '2153,37', '1637,00', '831,00', '895,01', '333,00', '909,00',\n",
       "       '691,00', '1163,00', '1327,00', '368,00', '2150,00', '272,00',\n",
       "       '2048,90', '2680,00', '1948,99', '174,00', '1272,00', '1476,11',\n",
       "       '1713,37', '1477,00', '521,86', '3499,00', '469,01', '1598,00',\n",
       "       '478,00', '2198,19', '737,00', '597,57', '361,80', '1600,00',\n",
       "       '875,00', '2325,00', '573,00', '1813,00', '324,00', '1072,00',\n",
       "       '443,99', '490,00', '895,00', '833,01', '729,00', '289,00',\n",
       "       '549,99', '805,99', '720,32', '638,00', '764,00'], dtype=object)"
      ]
     },
     "execution_count": 34,
     "metadata": {},
     "output_type": "execute_result"
    }
   ],
   "source": [
    "laptops.price_euros.unique()"
   ]
  },
  {
   "cell_type": "code",
   "execution_count": 35,
   "metadata": {},
   "outputs": [
    {
     "data": {
      "text/plain": [
       "dtype('float64')"
      ]
     },
     "execution_count": 35,
     "metadata": {},
     "output_type": "execute_result"
    }
   ],
   "source": [
    "laptops['price_euros'] = laptops['price_euros'].str.replace(',','.').astype(float)\n",
    "laptops['price_euros'].dtype"
   ]
  },
  {
   "cell_type": "code",
   "execution_count": 36,
   "metadata": {
    "scrolled": true
   },
   "outputs": [
    {
     "data": {
      "text/html": [
       "<div>\n",
       "<style scoped>\n",
       "    .dataframe tbody tr th:only-of-type {\n",
       "        vertical-align: middle;\n",
       "    }\n",
       "\n",
       "    .dataframe tbody tr th {\n",
       "        vertical-align: top;\n",
       "    }\n",
       "\n",
       "    .dataframe thead th {\n",
       "        text-align: right;\n",
       "    }\n",
       "</style>\n",
       "<table border=\"1\" class=\"dataframe\">\n",
       "  <thead>\n",
       "    <tr style=\"text-align: right;\">\n",
       "      <th></th>\n",
       "      <th>manufacturer</th>\n",
       "      <th>model_name</th>\n",
       "      <th>category</th>\n",
       "      <th>screensize_inches</th>\n",
       "      <th>screen</th>\n",
       "      <th>cpu</th>\n",
       "      <th>ram_gb</th>\n",
       "      <th>storage</th>\n",
       "      <th>gpu</th>\n",
       "      <th>os</th>\n",
       "      <th>os_version</th>\n",
       "      <th>weight_kg</th>\n",
       "      <th>price_euros</th>\n",
       "      <th>cpu_manufacturer</th>\n",
       "    </tr>\n",
       "  </thead>\n",
       "  <tbody>\n",
       "    <tr>\n",
       "      <th>0</th>\n",
       "      <td>Apple</td>\n",
       "      <td>MacBook Pro</td>\n",
       "      <td>Ultrabook</td>\n",
       "      <td>13.3</td>\n",
       "      <td>IPS Panel Retina Display 2560x1600</td>\n",
       "      <td>Intel Core i5 2.3GHz</td>\n",
       "      <td>8</td>\n",
       "      <td>128GB SSD</td>\n",
       "      <td>Intel Iris Plus Graphics 640</td>\n",
       "      <td>macOS</td>\n",
       "      <td>NaN</td>\n",
       "      <td>1.37</td>\n",
       "      <td>1339.69</td>\n",
       "      <td>Intel</td>\n",
       "    </tr>\n",
       "    <tr>\n",
       "      <th>1</th>\n",
       "      <td>Apple</td>\n",
       "      <td>Macbook Air</td>\n",
       "      <td>Ultrabook</td>\n",
       "      <td>13.3</td>\n",
       "      <td>1440x900</td>\n",
       "      <td>Intel Core i5 1.8GHz</td>\n",
       "      <td>8</td>\n",
       "      <td>128GB Flash Storage</td>\n",
       "      <td>Intel HD Graphics 6000</td>\n",
       "      <td>macOS</td>\n",
       "      <td>NaN</td>\n",
       "      <td>1.34</td>\n",
       "      <td>898.94</td>\n",
       "      <td>Intel</td>\n",
       "    </tr>\n",
       "    <tr>\n",
       "      <th>2</th>\n",
       "      <td>HP</td>\n",
       "      <td>250 G6</td>\n",
       "      <td>Notebook</td>\n",
       "      <td>15.6</td>\n",
       "      <td>Full HD 1920x1080</td>\n",
       "      <td>Intel Core i5 7200U 2.5GHz</td>\n",
       "      <td>8</td>\n",
       "      <td>256GB SSD</td>\n",
       "      <td>Intel HD Graphics 620</td>\n",
       "      <td>No OS</td>\n",
       "      <td>Version Unknown</td>\n",
       "      <td>1.86</td>\n",
       "      <td>575.00</td>\n",
       "      <td>Intel</td>\n",
       "    </tr>\n",
       "    <tr>\n",
       "      <th>3</th>\n",
       "      <td>Apple</td>\n",
       "      <td>MacBook Pro</td>\n",
       "      <td>Ultrabook</td>\n",
       "      <td>15.4</td>\n",
       "      <td>IPS Panel Retina Display 2880x1800</td>\n",
       "      <td>Intel Core i7 2.7GHz</td>\n",
       "      <td>16</td>\n",
       "      <td>512GB SSD</td>\n",
       "      <td>AMD Radeon Pro 455</td>\n",
       "      <td>macOS</td>\n",
       "      <td>NaN</td>\n",
       "      <td>1.83</td>\n",
       "      <td>2537.45</td>\n",
       "      <td>Intel</td>\n",
       "    </tr>\n",
       "    <tr>\n",
       "      <th>4</th>\n",
       "      <td>Apple</td>\n",
       "      <td>MacBook Pro</td>\n",
       "      <td>Ultrabook</td>\n",
       "      <td>13.3</td>\n",
       "      <td>IPS Panel Retina Display 2560x1600</td>\n",
       "      <td>Intel Core i5 3.1GHz</td>\n",
       "      <td>8</td>\n",
       "      <td>256GB SSD</td>\n",
       "      <td>Intel Iris Plus Graphics 650</td>\n",
       "      <td>macOS</td>\n",
       "      <td>NaN</td>\n",
       "      <td>1.37</td>\n",
       "      <td>1803.60</td>\n",
       "      <td>Intel</td>\n",
       "    </tr>\n",
       "  </tbody>\n",
       "</table>\n",
       "</div>"
      ],
      "text/plain": [
       "  manufacturer   model_name   category  screensize_inches  \\\n",
       "0        Apple  MacBook Pro  Ultrabook               13.3   \n",
       "1        Apple  Macbook Air  Ultrabook               13.3   \n",
       "2           HP       250 G6   Notebook               15.6   \n",
       "3        Apple  MacBook Pro  Ultrabook               15.4   \n",
       "4        Apple  MacBook Pro  Ultrabook               13.3   \n",
       "\n",
       "                               screen                         cpu  ram_gb  \\\n",
       "0  IPS Panel Retina Display 2560x1600        Intel Core i5 2.3GHz       8   \n",
       "1                            1440x900        Intel Core i5 1.8GHz       8   \n",
       "2                   Full HD 1920x1080  Intel Core i5 7200U 2.5GHz       8   \n",
       "3  IPS Panel Retina Display 2880x1800        Intel Core i7 2.7GHz      16   \n",
       "4  IPS Panel Retina Display 2560x1600        Intel Core i5 3.1GHz       8   \n",
       "\n",
       "               storage                           gpu     os       os_version  \\\n",
       "0            128GB SSD  Intel Iris Plus Graphics 640  macOS              NaN   \n",
       "1  128GB Flash Storage        Intel HD Graphics 6000  macOS              NaN   \n",
       "2            256GB SSD         Intel HD Graphics 620  No OS  Version Unknown   \n",
       "3            512GB SSD            AMD Radeon Pro 455  macOS              NaN   \n",
       "4            256GB SSD  Intel Iris Plus Graphics 650  macOS              NaN   \n",
       "\n",
       "   weight_kg  price_euros cpu_manufacturer  \n",
       "0       1.37      1339.69            Intel  \n",
       "1       1.34       898.94            Intel  \n",
       "2       1.86       575.00            Intel  \n",
       "3       1.83      2537.45            Intel  \n",
       "4       1.37      1803.60            Intel  "
      ]
     },
     "execution_count": 36,
     "metadata": {},
     "output_type": "execute_result"
    }
   ],
   "source": [
    "laptops.head()"
   ]
  },
  {
   "cell_type": "code",
   "execution_count": 37,
   "metadata": {
    "scrolled": true
   },
   "outputs": [],
   "source": [
    "manufacturer_count=laptops['manufacturer'].value_counts(normalize=True)*100"
   ]
  },
  {
   "cell_type": "code",
   "execution_count": 38,
   "metadata": {},
   "outputs": [
    {
     "data": {
      "text/plain": [
       "Lenovo       22.793553\n",
       "Dell         22.793553\n",
       "HP           21.028396\n",
       "Asus         12.125863\n",
       "Acer          7.904835\n",
       "MSI           4.144282\n",
       "Toshiba       3.683807\n",
       "Apple         1.611665\n",
       "Samsung       0.690714\n",
       "Mediacom      0.537222\n",
       "Razer         0.537222\n",
       "Microsoft     0.460476\n",
       "Vero          0.306984\n",
       "Xiaomi        0.306984\n",
       "Fujitsu       0.230238\n",
       "LG            0.230238\n",
       "Chuwi         0.230238\n",
       "Google        0.230238\n",
       "Huawei        0.153492\n",
       "Name: manufacturer, dtype: float64"
      ]
     },
     "execution_count": 38,
     "metadata": {},
     "output_type": "execute_result"
    }
   ],
   "source": [
    "manufacturer_count"
   ]
  },
  {
   "cell_type": "code",
   "execution_count": 39,
   "metadata": {},
   "outputs": [
    {
     "data": {
      "image/png": "[encoded data removed]",
      "text/plain": [
       "<Figure size 720x576 with 1 Axes>"
      ]
     },
     "metadata": {
      "needs_background": "light"
     },
     "output_type": "display_data"
    }
   ],
   "source": [
    "manufacturer_count.plot(kind='bar',color='g',rot=85,figsize=(10,8));\n",
    "plt.ylabel('Relative Frequency in Percentage',color='b',fontsize=14);\n",
    "plt.xlabel('Names of laptops manufacturers',color='b',fontsize=14);\n",
    "plt.title('Laptops Manufacturer and frequency of laptops produced\\nIn percentage',color='b',fontsize=14);"
   ]
  },
  {
   "cell_type": "markdown",
   "metadata": {},
   "source": [
    "Lenovo,Dell and Hp are the highest manufacturer of laptops taking more than 60% of the total laptops manufactured"
   ]
  },
  {
   "cell_type": "code",
   "execution_count": 40,
   "metadata": {},
   "outputs": [],
   "source": [
    "manufacturer_mean_price=laptops.groupby(['manufacturer']).price_euros.mean().sort_index(ascending=True)"
   ]
  },
  {
   "cell_type": "code",
   "execution_count": 41,
   "metadata": {},
   "outputs": [
    {
     "data": {
      "text/plain": [
       "manufacturer\n",
       "Acer          626.775825\n",
       "Apple        1564.198571\n",
       "Asus         1104.169367\n",
       "Chuwi         314.296667\n",
       "Dell         1186.068990\n",
       "Fujitsu       729.000000\n",
       "Google       1677.666667\n",
       "HP           1067.774854\n",
       "Huawei       1424.000000\n",
       "LG           2099.000000\n",
       "Lenovo       1086.384444\n",
       "MSI          1728.908148\n",
       "Mediacom      295.000000\n",
       "Microsoft    1612.308333\n",
       "Razer        3346.142857\n",
       "Samsung      1413.444444\n",
       "Toshiba      1267.812500\n",
       "Vero          217.425000\n",
       "Xiaomi       1133.462500\n",
       "Name: price_euros, dtype: float64"
      ]
     },
     "execution_count": 41,
     "metadata": {},
     "output_type": "execute_result"
    }
   ],
   "source": [
    "manufacturer_mean_price"
   ]
  },
  {
   "cell_type": "code",
   "execution_count": 42,
   "metadata": {},
   "outputs": [
    {
     "data": {
      "image/png": "[encoded data removed]",
      "text/plain": [
       "<Figure size 720x576 with 1 Axes>"
      ]
     },
     "metadata": {
      "needs_background": "light"
     },
     "output_type": "display_data"
    }
   ],
   "source": [
    "manufacturer_mean_price.plot(kind='barh',color='purple',figsize=(10,8));\n",
    "plt.xlabel('Laptops Mean Price', color='b',fontsize=16);\n",
    "plt.ylabel('Laptops Manufacturer',color='b',fontsize=16);\n",
    "plt.title('Manufacturer Of Laptops and Their Mean Price',color='b',fontsize=16);"
   ]
  },
  {
   "cell_type": "markdown",
   "metadata": {},
   "source": [
    "From the plot above Razer laptops are more costlier with a mean price of over 3000 euros\n",
    "Vero,madiacom and chuwi all cost below 500 euros."
   ]
  },
  {
   "cell_type": "code",
   "execution_count": 43,
   "metadata": {},
   "outputs": [
    {
     "data": {
      "text/html": [
       "<div>\n",
       "<style scoped>\n",
       "    .dataframe tbody tr th:only-of-type {\n",
       "        vertical-align: middle;\n",
       "    }\n",
       "\n",
       "    .dataframe tbody tr th {\n",
       "        vertical-align: top;\n",
       "    }\n",
       "\n",
       "    .dataframe thead th {\n",
       "        text-align: right;\n",
       "    }\n",
       "</style>\n",
       "<table border=\"1\" class=\"dataframe\">\n",
       "  <thead>\n",
       "    <tr style=\"text-align: right;\">\n",
       "      <th></th>\n",
       "      <th>manufacturer</th>\n",
       "      <th>model_name</th>\n",
       "      <th>category</th>\n",
       "      <th>screensize_inches</th>\n",
       "      <th>screen</th>\n",
       "      <th>cpu</th>\n",
       "      <th>ram_gb</th>\n",
       "      <th>storage</th>\n",
       "      <th>gpu</th>\n",
       "      <th>os</th>\n",
       "      <th>os_version</th>\n",
       "      <th>weight_kg</th>\n",
       "      <th>price_euros</th>\n",
       "      <th>cpu_manufacturer</th>\n",
       "    </tr>\n",
       "  </thead>\n",
       "  <tbody>\n",
       "    <tr>\n",
       "      <th>184</th>\n",
       "      <td>Xiaomi</td>\n",
       "      <td>Mi Notebook</td>\n",
       "      <td>Notebook</td>\n",
       "      <td>15.6</td>\n",
       "      <td>IPS Panel Full HD 1920x1080</td>\n",
       "      <td>Intel Core i5 8250U 1.6GHz</td>\n",
       "      <td>8</td>\n",
       "      <td>256GB SSD</td>\n",
       "      <td>Nvidia GeForce MX150</td>\n",
       "      <td>No OS</td>\n",
       "      <td>Version Unknown</td>\n",
       "      <td>1.95</td>\n",
       "      <td>1199.00</td>\n",
       "      <td>Intel</td>\n",
       "    </tr>\n",
       "    <tr>\n",
       "      <th>192</th>\n",
       "      <td>Xiaomi</td>\n",
       "      <td>Mi Notebook</td>\n",
       "      <td>Ultrabook</td>\n",
       "      <td>13.3</td>\n",
       "      <td>IPS Panel Full HD 1920x1080</td>\n",
       "      <td>Intel Core i5 7200U 2.5GHz</td>\n",
       "      <td>8</td>\n",
       "      <td>256GB SSD</td>\n",
       "      <td>Nvidia GeForce MX150</td>\n",
       "      <td>No OS</td>\n",
       "      <td>Version Unknown</td>\n",
       "      <td>1.30</td>\n",
       "      <td>999.90</td>\n",
       "      <td>Intel</td>\n",
       "    </tr>\n",
       "    <tr>\n",
       "      <th>514</th>\n",
       "      <td>Xiaomi</td>\n",
       "      <td>Mi Notebook</td>\n",
       "      <td>Notebook</td>\n",
       "      <td>15.6</td>\n",
       "      <td>IPS Panel Full HD 1920x1080</td>\n",
       "      <td>Intel Core i7 8550U 1.8GHz</td>\n",
       "      <td>16</td>\n",
       "      <td>256GB SSD</td>\n",
       "      <td>Nvidia GeForce MX150</td>\n",
       "      <td>No OS</td>\n",
       "      <td>Version Unknown</td>\n",
       "      <td>1.95</td>\n",
       "      <td>1399.95</td>\n",
       "      <td>Intel</td>\n",
       "    </tr>\n",
       "    <tr>\n",
       "      <th>877</th>\n",
       "      <td>Xiaomi</td>\n",
       "      <td>Mi Notebook</td>\n",
       "      <td>Ultrabook</td>\n",
       "      <td>13.3</td>\n",
       "      <td>IPS Panel Full HD 1920x1080</td>\n",
       "      <td>Intel Core i5 6200U 2.3GHz</td>\n",
       "      <td>8</td>\n",
       "      <td>256GB SSD</td>\n",
       "      <td>Nvidia GeForce 940MX</td>\n",
       "      <td>Windows</td>\n",
       "      <td>10</td>\n",
       "      <td>1.28</td>\n",
       "      <td>935.00</td>\n",
       "      <td>Intel</td>\n",
       "    </tr>\n",
       "  </tbody>\n",
       "</table>\n",
       "</div>"
      ],
      "text/plain": [
       "    manufacturer   model_name   category  screensize_inches  \\\n",
       "184       Xiaomi  Mi Notebook   Notebook               15.6   \n",
       "192       Xiaomi  Mi Notebook  Ultrabook               13.3   \n",
       "514       Xiaomi  Mi Notebook   Notebook               15.6   \n",
       "877       Xiaomi  Mi Notebook  Ultrabook               13.3   \n",
       "\n",
       "                          screen                         cpu  ram_gb  \\\n",
       "184  IPS Panel Full HD 1920x1080  Intel Core i5 8250U 1.6GHz       8   \n",
       "192  IPS Panel Full HD 1920x1080  Intel Core i5 7200U 2.5GHz       8   \n",
       "514  IPS Panel Full HD 1920x1080  Intel Core i7 8550U 1.8GHz      16   \n",
       "877  IPS Panel Full HD 1920x1080  Intel Core i5 6200U 2.3GHz       8   \n",
       "\n",
       "       storage                   gpu       os       os_version  weight_kg  \\\n",
       "184  256GB SSD  Nvidia GeForce MX150    No OS  Version Unknown       1.95   \n",
       "192  256GB SSD  Nvidia GeForce MX150    No OS  Version Unknown       1.30   \n",
       "514  256GB SSD  Nvidia GeForce MX150    No OS  Version Unknown       1.95   \n",
       "877  256GB SSD  Nvidia GeForce 940MX  Windows               10       1.28   \n",
       "\n",
       "     price_euros cpu_manufacturer  \n",
       "184      1199.00            Intel  \n",
       "192       999.90            Intel  \n",
       "514      1399.95            Intel  \n",
       "877       935.00            Intel  "
      ]
     },
     "execution_count": 43,
     "metadata": {},
     "output_type": "execute_result"
    }
   ],
   "source": [
    "laptops.loc[laptops['manufacturer']=='Xiaomi']"
   ]
  },
  {
   "cell_type": "markdown",
   "metadata": {},
   "source": [
    "Looking at the laptops manufactured by Xiaomi we can find some interesting things.\n",
    "\n",
    "we can replace the os_version from unknown version to 10 and the os to windows because the laptops are all similar."
   ]
  },
  {
   "cell_type": "code",
   "execution_count": 44,
   "metadata": {},
   "outputs": [],
   "source": [
    "laptops.loc[laptops['manufacturer']=='Xiaomi','os']='Windows'"
   ]
  },
  {
   "cell_type": "code",
   "execution_count": 45,
   "metadata": {},
   "outputs": [],
   "source": [
    "laptops.loc[laptops['manufacturer']=='Xiaomi','os_version']='10'"
   ]
  },
  {
   "cell_type": "code",
   "execution_count": 46,
   "metadata": {},
   "outputs": [
    {
     "data": {
      "text/plain": [
       "array(['macOS', 'No OS', 'Windows', 'Mac OS', 'Linux', 'Android',\n",
       "       'Chrome OS'], dtype=object)"
      ]
     },
     "execution_count": 46,
     "metadata": {},
     "output_type": "execute_result"
    }
   ],
   "source": [
    "laptops.os.unique()"
   ]
  },
  {
   "cell_type": "code",
   "execution_count": 47,
   "metadata": {
    "scrolled": true
   },
   "outputs": [
    {
     "data": {
      "text/plain": [
       "manufacturer  os       \n",
       "Acer          Windows       73.786408\n",
       "              Linux         15.533981\n",
       "              Chrome OS     10.679612\n",
       "Apple         macOS         61.904762\n",
       "              Mac OS        38.095238\n",
       "Asus          Windows       89.240506\n",
       "              Linux          6.329114\n",
       "              No OS          2.531646\n",
       "              Chrome OS      1.898734\n",
       "Chuwi         Windows      100.000000\n",
       "Dell          Windows       87.542088\n",
       "              Linux         12.121212\n",
       "              Chrome OS      0.336700\n",
       "Fujitsu       Windows      100.000000\n",
       "Google        Chrome OS    100.000000\n",
       "HP            Windows       94.160584\n",
       "              No OS          4.379562\n",
       "              Chrome OS      1.459854\n",
       "Huawei        Windows      100.000000\n",
       "LG            Windows      100.000000\n",
       "Lenovo        Windows       82.491582\n",
       "              No OS         15.824916\n",
       "              Chrome OS      1.010101\n",
       "              Android        0.673401\n",
       "MSI           Windows      100.000000\n",
       "Mediacom      Windows      100.000000\n",
       "Microsoft     Windows      100.000000\n",
       "Razer         Windows      100.000000\n",
       "Samsung       Windows       77.777778\n",
       "              Chrome OS     22.222222\n",
       "Toshiba       Windows      100.000000\n",
       "Vero          Windows      100.000000\n",
       "Xiaomi        Windows      100.000000\n",
       "Name: os, dtype: float64"
      ]
     },
     "execution_count": 47,
     "metadata": {},
     "output_type": "execute_result"
    }
   ],
   "source": [
    "laptops.groupby(['manufacturer']).os.value_counts(normalize=True,dropna=False)*100"
   ]
  },
  {
   "cell_type": "code",
   "execution_count": 48,
   "metadata": {},
   "outputs": [],
   "source": [
    "category_weight=laptops.groupby(['category']).weight_kg.mean().round(2).sort_index(ascending=True)"
   ]
  },
  {
   "cell_type": "code",
   "execution_count": 49,
   "metadata": {},
   "outputs": [
    {
     "data": {
      "text/plain": [
       "category\n",
       "2 in 1 Convertible    1.55\n",
       "Gaming                2.95\n",
       "Netbook               1.31\n",
       "Notebook              2.06\n",
       "Ultrabook             1.34\n",
       "Workstation           2.47\n",
       "Name: weight_kg, dtype: float64"
      ]
     },
     "execution_count": 49,
     "metadata": {},
     "output_type": "execute_result"
    }
   ],
   "source": [
    "category_weight"
   ]
  },
  {
   "cell_type": "code",
   "execution_count": 50,
   "metadata": {},
   "outputs": [
    {
     "data": {
      "image/png": "[encoded data removed]",
      "text/plain": [
       "<Figure size 720x576 with 1 Axes>"
      ]
     },
     "metadata": {
      "needs_background": "light"
     },
     "output_type": "display_data"
    }
   ],
   "source": [
    "category_weight.plot(kind='bar',color='red',rot=85,figsize=(10,8));\n",
    "plt.xticks(fontsize=12,color='black');\n",
    "plt.yticks(fontsize=12,color='black');\n",
    "plt.ylabel('Average weight in kg',color='black',fontsize=15);\n",
    "plt.xlabel('Category of laptops',color='black',fontsize=15);\n",
    "plt.title('Average Weight of Each Category Of Laptops',color='black',fontsize=15);"
   ]
  },
  {
   "cell_type": "markdown",
   "metadata": {},
   "source": [
    "Laptops in Gaming,Notebook and Workstation category weigh more than the rest.\n"
   ]
  },
  {
   "cell_type": "code",
   "execution_count": 51,
   "metadata": {},
   "outputs": [],
   "source": [
    "category_price=laptops.groupby(['category']).price_euros.mean().round(2)"
   ]
  },
  {
   "cell_type": "code",
   "execution_count": 52,
   "metadata": {},
   "outputs": [
    {
     "data": {
      "text/plain": [
       "category\n",
       "2 in 1 Convertible    1282.40\n",
       "Gaming                1731.38\n",
       "Netbook                636.23\n",
       "Notebook               782.08\n",
       "Ultrabook             1548.23\n",
       "Workstation           2280.36\n",
       "Name: price_euros, dtype: float64"
      ]
     },
     "execution_count": 52,
     "metadata": {},
     "output_type": "execute_result"
    }
   ],
   "source": [
    "category_price"
   ]
  },
  {
   "cell_type": "code",
   "execution_count": 53,
   "metadata": {},
   "outputs": [
    {
     "data": {
      "image/png": "[encoded data removed]",
      "text/plain": [
       "<Figure size 720x576 with 1 Axes>"
      ]
     },
     "metadata": {
      "needs_background": "light"
     },
     "output_type": "display_data"
    }
   ],
   "source": [
    "category_price.plot(kind='barh',cmap='viridis',figsize=(10,8));\n",
    "plt.ylabel('Categories Of Laptops',fontsize=15);\n",
    "plt.xlabel('Average Price in Euros',fontsize=15);\n",
    "plt.title('Average Price In Euros Of Each Category\\nOf Laptops',fontsize=15);\n",
    "plt.grid(True)\n",
    "plt.xticks(fontsize=12);\n",
    "plt.yticks(fontsize=12);"
   ]
  },
  {
   "cell_type": "markdown",
   "metadata": {},
   "source": [
    "Laptops in the workstation category cost more in price than other categories."
   ]
  },
  {
   "cell_type": "code",
   "execution_count": 54,
   "metadata": {
    "scrolled": true
   },
   "outputs": [
    {
     "name": "stdout",
     "output_type": "stream",
     "text": [
      "<class 'pandas.core.frame.DataFrame'>\n",
      "RangeIndex: 1303 entries, 0 to 1302\n",
      "Data columns (total 14 columns):\n",
      " #   Column             Non-Null Count  Dtype  \n",
      "---  ------             --------------  -----  \n",
      " 0   manufacturer       1303 non-null   object \n",
      " 1   model_name         1303 non-null   object \n",
      " 2   category           1303 non-null   object \n",
      " 3   screensize_inches  1303 non-null   float64\n",
      " 4   screen             1303 non-null   object \n",
      " 5   cpu                1303 non-null   object \n",
      " 6   ram_gb             1303 non-null   int64  \n",
      " 7   storage            1303 non-null   object \n",
      " 8   gpu                1303 non-null   object \n",
      " 9   os                 1303 non-null   object \n",
      " 10  os_version         1199 non-null   object \n",
      " 11  weight_kg          1303 non-null   float64\n",
      " 12  price_euros        1303 non-null   float64\n",
      " 13  cpu_manufacturer   1303 non-null   object \n",
      "dtypes: float64(3), int64(1), object(10)\n",
      "memory usage: 142.6+ KB\n"
     ]
    }
   ],
   "source": [
    "laptops.info()"
   ]
  },
  {
   "cell_type": "code",
   "execution_count": 55,
   "metadata": {},
   "outputs": [
    {
     "data": {
      "image/png": "[encoded data removed]",
      "text/plain": [
       "<Figure size 720x576 with 1 Axes>"
      ]
     },
     "metadata": {
      "needs_background": "light"
     },
     "output_type": "display_data"
    }
   ],
   "source": [
    "laptops.groupby('manufacturer').price_euros.sum().sort_index(ascending=False).round(2).plot(kind='barh',cmap='cividis',figsize=(10,8));\n",
    "plt.yticks(fontsize=13);\n",
    "plt.xticks(fontsize=13);\n",
    "plt.ylabel('Manufacturer',fontsize=15);\n",
    "plt.xlabel('Price Sum',fontsize=15);\n",
    "plt.title('Laptops Manufacturer and the Sum of Their Laptops Price in Euros',fontsize=15);"
   ]
  },
  {
   "cell_type": "code",
   "execution_count": 59,
   "metadata": {
    "scrolled": true
   },
   "outputs": [
    {
     "data": {
      "image/png": "[encoded data removed]",
      "text/plain": [
       "<Figure size 720x576 with 1 Axes>"
      ]
     },
     "metadata": {
      "needs_background": "light"
     },
     "output_type": "display_data"
    }
   ],
   "source": [
    "manufacturer_price=laptops.groupby('manufacturer')['price_euros'].mean().round(1)\n",
    "manufacturer_price.plot(kind='barh',cmap='viridis',figsize=(10,8));           \n",
    "plt.yticks(fontsize=13);\n",
    "plt.xticks(fontsize=13);\n",
    "plt.ylabel('Manufacturer',fontsize=15);\n",
    "plt.xlabel('Mean Price',fontsize=15);\n",
    "plt.title('Laptops Manufacturer and the Price of Their Laptops in Euros',fontsize=15);"
   ]
  },
  {
   "cell_type": "code",
   "execution_count": 57,
   "metadata": {},
   "outputs": [],
   "source": [
    "import seaborn as sns"
   ]
  },
  {
   "cell_type": "code",
   "execution_count": 58,
   "metadata": {},
   "outputs": [
    {
     "name": "stderr",
     "output_type": "stream",
     "text": [
      "/data/user/0/ru.iiec.pydroid3/files/aarch64-linux-android/lib/python3.7/site-packages/seaborn/categorical.py:1635: MatplotlibDeprecationWarning: Using a string of single character colors as a color sequence is deprecated. Use an explicit list instead.\n",
      "  color=self.colors, align=\"center\", **kws)\n"
     ]
    },
    {
     "data": {
      "image/png": "[encoded data removed]",
      "text/plain": [
       "<Figure size 432x288 with 1 Axes>"
      ]
     },
     "metadata": {
      "needs_background": "light"
     },
     "output_type": "display_data"
    }
   ],
   "source": [
    "cpu_price=laptops.groupby('cpu_manufacturer')['price_euros'].mean().reset_index()\n",
    "sns.barplot(cpu_price['cpu_manufacturer'],cpu_price['price_euros'],palette ='winter',\n",
    "           linewidth=1,\n",
    "            edgecolor='k'*cpu_price['cpu_manufacturer'].nunique()\n",
    "           );\n",
    "plt.grid(True)"
   ]
  },
  {
   "cell_type": "code",
   "execution_count": null,
   "metadata": {},
   "outputs": [],
   "source": []
  },
  {
   "cell_type": "code",
   "execution_count": null,
   "metadata": {},
   "outputs": [],
   "source": []
  },
  {
   "cell_type": "code",
   "execution_count": null,
   "metadata": {},
   "outputs": [],
   "source": []
  },
  {
   "cell_type": "code",
   "execution_count": null,
   "metadata": {},
   "outputs": [],
   "source": []
  },
  {
   "cell_type": "code",
   "execution_count": null,
   "metadata": {},
   "outputs": [],
   "source": []
  },
  {
   "cell_type": "code",
   "execution_count": null,
   "metadata": {},
   "outputs": [],
   "source": []
  },
  {
   "cell_type": "code",
   "execution_count": null,
   "metadata": {},
   "outputs": [],
   "source": []
  },
  {
   "cell_type": "code",
   "execution_count": null,
   "metadata": {},
   "outputs": [],
   "source": []
  },
  {
   "cell_type": "code",
   "execution_count": null,
   "metadata": {},
   "outputs": [],
   "source": []
  },
  {
   "cell_type": "code",
   "execution_count": null,
   "metadata": {},
   "outputs": [],
   "source": []
  },
  {
   "cell_type": "code",
   "execution_count": null,
   "metadata": {},
   "outputs": [],
   "source": []
  },
  {
   "cell_type": "code",
   "execution_count": null,
   "metadata": {},
   "outputs": [],
   "source": []
  },
  {
   "cell_type": "code",
   "execution_count": null,
   "metadata": {},
   "outputs": [],
   "source": []
  },
  {
   "cell_type": "code",
   "execution_count": null,
   "metadata": {},
   "outputs": [],
   "source": []
  },
  {
   "cell_type": "code",
   "execution_count": null,
   "metadata": {},
   "outputs": [],
   "source": []
  },
  {
   "cell_type": "code",
   "execution_count": null,
   "metadata": {},
   "outputs": [],
   "source": []
  },
  {
   "cell_type": "code",
   "execution_count": null,
   "metadata": {},
   "outputs": [],
   "source": []
  },
  {
   "cell_type": "code",
   "execution_count": null,
   "metadata": {},
   "outputs": [],
   "source": []
  },
  {
   "cell_type": "code",
   "execution_count": null,
   "metadata": {},
   "outputs": [],
   "source": []
  },
  {
   "cell_type": "code",
   "execution_count": null,
   "metadata": {},
   "outputs": [],
   "source": []
  },
  {
   "cell_type": "code",
   "execution_count": null,
   "metadata": {},
   "outputs": [],
   "source": []
  },
  {
   "cell_type": "code",
   "execution_count": null,
   "metadata": {},
   "outputs": [],
   "source": []
  },
  {
   "cell_type": "code",
   "execution_count": null,
   "metadata": {},
   "outputs": [],
   "source": []
  },
  {
   "cell_type": "code",
   "execution_count": null,
   "metadata": {},
   "outputs": [],
   "source": []
  },
  {
   "cell_type": "code",
   "execution_count": null,
   "metadata": {},
   "outputs": [],
   "source": []
  },
  {
   "cell_type": "code",
   "execution_count": null,
   "metadata": {},
   "outputs": [],
   "source": []
  },
  {
   "cell_type": "code",
   "execution_count": null,
   "metadata": {},
   "outputs": [],
   "source": []
  },
  {
   "cell_type": "code",
   "execution_count": null,
   "metadata": {},
   "outputs": [],
   "source": []
  },
  {
   "cell_type": "code",
   "execution_count": null,
   "metadata": {},
   "outputs": [],
   "source": []
  },
  {
   "cell_type": "code",
   "execution_count": null,
   "metadata": {},
   "outputs": [],
   "source": []
  },
  {
   "cell_type": "code",
   "execution_count": null,
   "metadata": {},
   "outputs": [],
   "source": []
  },
  {
   "cell_type": "code",
   "execution_count": null,
   "metadata": {},
   "outputs": [],
   "source": []
  },
  {
   "cell_type": "code",
   "execution_count": null,
   "metadata": {},
   "outputs": [],
   "source": []
  },
  {
   "cell_type": "code",
   "execution_count": null,
   "metadata": {},
   "outputs": [],
   "source": []
  },
  {
   "cell_type": "code",
   "execution_count": null,
   "metadata": {},
   "outputs": [],
   "source": []
  },
  {
   "cell_type": "code",
   "execution_count": null,
   "metadata": {},
   "outputs": [],
   "source": []
  },
  {
   "cell_type": "code",
   "execution_count": null,
   "metadata": {},
   "outputs": [],
   "source": []
  },
  {
   "cell_type": "code",
   "execution_count": null,
   "metadata": {},
   "outputs": [],
   "source": []
  },
  {
   "cell_type": "code",
   "execution_count": null,
   "metadata": {},
   "outputs": [],
   "source": []
  },
  {
   "cell_type": "code",
   "execution_count": null,
   "metadata": {},
   "outputs": [],
   "source": []
  },
  {
   "cell_type": "code",
   "execution_count": null,
   "metadata": {},
   "outputs": [],
   "source": []
  }
 ],
 "metadata": {
  "kernelspec": {
   "display_name": "Python 3",
   "language": "python",
   "name": "python3"
  },
  "language_info": {
   "codemirror_mode": {
    "name": "ipython",
    "version": 3
   },
   "file_extension": ".py",
   "mimetype": "text/x-python",
   "name": "python",
   "nbconvert_exporter": "python",
   "pygments_lexer": "ipython3",
   "version": "3.7.2"
  }
 },
 "nbformat": 4,
 "nbformat_minor": 4
}
